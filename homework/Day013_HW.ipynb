{
 "cells": [
  {
   "cell_type": "markdown",
   "metadata": {},
   "source": [
    "# PTT 網路爬蟲實作練習\n",
    "\n",
    "\n",
    "* 能夠利用 Request + BeatifulSour 撰寫爬蟲，並存放到合適的資料結構\n"
   ]
  },
  {
   "cell_type": "markdown",
   "metadata": {},
   "source": [
    "## 作業目標\n",
    "\n",
    "根據範例 ，完成以下問題：\n",
    "\n",
    "* ① 印出最新文章的「作者」「標題」「時間」\n",
    "* ② 印出第一頁所有文章的「作者」「標題」「時間」\n"
   ]
  },
  {
   "cell_type": "markdown",
   "metadata": {},
   "source": [
    "### ① 印出最新文章的「作者」「標題」「時間」"
   ]
  },
  {
   "cell_type": "code",
   "execution_count": 3,
   "metadata": {},
   "outputs": [],
   "source": [
    "import requests\n",
    "from bs4 import BeautifulSoup\n",
    "\n",
    "url = 'https://www.ptt.cc/bbs/Tainan/index.html'\n",
    "r = requests.get(url)\n",
    "\n",
    "soup = BeautifulSoup(r.text, \"html5lib\")"
   ]
  },
  {
   "cell_type": "markdown",
   "metadata": {},
   "source": [
    "### ② 印出第一頁所有文章的「作者」「標題」「時間」"
   ]
  },
  {
   "cell_type": "code",
   "execution_count": 4,
   "metadata": {},
   "outputs": [
    {
     "name": "stdout",
     "output_type": "stream",
     "text": [
      "標題：  [交易] 蘭芝水酷肌因保濕導入液/醒肌露清爽型\n",
      "作者： bwish (Amy)\n",
      "時間： Sun Dec 29 18:07:19 2019\n",
      "標題：  [交易] ikea鯊魚合購（已徵得\n",
      "作者： estther (__eshter)\n",
      "時間： Sun Dec 29 18:13:28 2019\n",
      "標題：  [小心] 新市 中華路住宅偷竊\n",
      "作者： acerfit121 (汪汪)\n",
      "時間： Sun Dec 29 18:21:36 2019\n",
      "標題：  [失蹤] 東區德安附近狗狗不見\n",
      "作者： yfs956423 (包子讚讚)\n",
      "時間： Sun Dec 29 18:57:17 2019\n",
      "標題：  [交易] 健身工廠安平店會籍轉讓\n",
      "作者： cccoco (alex)\n",
      "時間： Sun Dec 29 19:09:44 2019\n",
      "標題：  [交易] 亞培安素\n",
      "作者： kincrystal (肯定信徒)\n",
      "時間： Sun Dec 29 20:34:30 2019\n",
      "標題：  [交易] ZEPRO 限量版國旗 慢跑鞋  US9號 \n",
      "作者： plki (plki)\n",
      "時間： Sun Dec 29 20:37:07 2019\n",
      "標題：  [問題] 藍鑽貓砂哪裡推薦買？\n",
      "作者： rarz (rzrzz_)\n",
      "時間： Sun Dec 29 20:40:58 2019\n",
      "標題：  [交易] 七種烤盤可拆式鬆餅機（二手）\n",
      "作者： lnp (錦繡前程幸福人生)\n",
      "時間： Sun Dec 29 20:48:36 2019\n",
      "標題：  [活動] 大台南【即時活動】整理\n",
      "作者： reesion (阿湯哥)\n",
      "時間： Fri Mar 13 12:29:38 2015\n",
      "標題：  [公告] 台南板板規\n",
      "標題：  [公告] 置底閒聊區上線啦\n",
      "作者： brokenlin (勃肯李)\n",
      "時間： Thu Nov  1 22:00:44 2018\n",
      "標題：  [公告] 3C與周邊、各類交易類　→請推本文←\n",
      "作者： lianpig5566 (家庭教師殺手里包恩)\n",
      "時間： Mon May 27 00:46:27 2019\n",
      "標題：  [公告] 票券、卡片類與收集類　→請推本文←\n",
      "作者： lianpig5566 (家庭教師殺手里包恩)\n",
      "時間： Mon May 27 00:46:27 2019\n"
     ]
    }
   ],
   "source": [
    "for d in soup.find_all(class_=\"title\"):\n",
    "    try:\n",
    "        print('標題： ', d.text.replace('\\t', '').replace('\\n', ''))\n",
    "        r = BeautifulSoup(requests.get('https://www.ptt.cc'+d.find('a')['href']).text, \"html5lib\")\n",
    "        print('作者： ' + r.find(class_='article-meta-value').text)\n",
    "        print('時間： ' + r.find_all(class_='article-meta-value')[-1].text)\n",
    "    except:\n",
    "        continue"
   ]
  },
  {
   "cell_type": "markdown",
   "metadata": {},
   "source": [
    "### ③ 試著爬爬看其他版的文章"
   ]
  },
  {
   "cell_type": "code",
   "execution_count": 5,
   "metadata": {},
   "outputs": [
    {
     "name": "stdout",
     "output_type": "stream",
     "text": [
      "標題：  [心得] NHK2001大河劇《北条時宗》有感(二)\n",
      "作者： Davidking (雖千萬人)\n",
      "時間： Sun Dec 29 17:47:56 2019\n",
      "標題：  [LIVE] Grand Maison東京 最終回 (TBS 台灣8PM)\n",
      "作者： ericyi (BIG HAND)\n",
      "時間： Sun Dec 29 18:53:13 2019\n",
      "標題：  [閒聊] (雷)緋紅 第十三週77 充滿愛的陶器\n",
      "作者： chongfong (仲楓)\n",
      "時間： Sun Dec 29 20:55:01 2019\n",
      "標題：  [公告] 日劇版版規 2019.05.22\n",
      "標題：  [公告] 2019年12月份違規處理暨版務交流區\n",
      "作者： coldeden (停 不要再靠近)\n",
      "時間： Sat Nov 30 22:55:10 2019\n",
      "標題：  [公告] 2019年秋季檔期置底閒聊區\n",
      "作者： coldeden (停 不要再靠近)\n",
      "時間： Tue Oct  1 12:54:48 2019\n",
      "標題：  [賭盤] 日21『グランメゾン東京』 最終回收視率 \n",
      "作者： coldeden\n",
      "時間： Wed Dec 25 17:53:32 2019\n",
      "標題：  [情報] (12/27更新登場人物介紹)麒麟がくる 角色海報公開\n",
      "作者： laisharon (KaiRan-Van おもしろい)\n",
      "時間： Wed Dec 18 12:47:01 2019\n"
     ]
    }
   ],
   "source": [
    "url = 'https://www.ptt.cc/bbs/Japandrama/index.html'\n",
    "r = requests.get(url)\n",
    "\n",
    "soup = BeautifulSoup(r.text, \"html5lib\")\n",
    "\n",
    "for d in soup.find_all(class_=\"title\"):\n",
    "    try:\n",
    "        print('標題： ', d.text.replace('\\t', '').replace('\\n', ''))\n",
    "        r = BeautifulSoup(requests.get('https://www.ptt.cc'+d.find('a')['href']).text, \"html5lib\")\n",
    "        print('作者： ' + r.find(class_='article-meta-value').text)\n",
    "        print('時間： ' + r.find_all(class_='article-meta-value')[-1].text)\n",
    "    except:\n",
    "        continue"
   ]
  },
  {
   "cell_type": "code",
   "execution_count": null,
   "metadata": {},
   "outputs": [],
   "source": []
  }
 ],
 "metadata": {
  "kernelspec": {
   "display_name": "Python 3",
   "language": "python",
   "name": "python3"
  },
  "language_info": {
   "codemirror_mode": {
    "name": "ipython",
    "version": 3
   },
   "file_extension": ".py",
   "mimetype": "text/x-python",
   "name": "python",
   "nbconvert_exporter": "python",
   "pygments_lexer": "ipython3",
   "version": "3.7.3"
  }
 },
 "nbformat": 4,
 "nbformat_minor": 2
}
